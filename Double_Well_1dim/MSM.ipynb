{
 "cells": [
  {
   "cell_type": "code",
   "execution_count": 1,
   "metadata": {},
   "outputs": [],
   "source": [
    "%load_ext autoreload\n",
    "%autoreload 2"
   ]
  },
  {
   "cell_type": "code",
   "execution_count": 114,
   "metadata": {},
   "outputs": [],
   "source": [
    "import molsysmt as msm\n",
    "from uibcdf_test_systems.systems import DoubleWell\n",
    "from uibcdf_test_systems.simulation import langevin_NVT\n",
    "import simtk.unit as unit\n",
    "import numpy as np\n",
    "import matplotlib.pyplot as plt\n",
    "import ipywidgets as ipywidgets"
   ]
  },
  {
   "cell_type": "markdown",
   "metadata": {},
   "source": [
    "# The Markov state model and the Kinetic transition network of an assymetric double well potential."
   ]
  },
  {
   "cell_type": "markdown",
   "metadata": {},
   "source": [
    "The double well potential used here will be [the one included in the library UIBCDF_tests_systems](http://www.uibcdf.org/UIBCDF_test_systems/_build/systems/double_well_potential.html) with the following parameters:"
   ]
  },
  {
   "cell_type": "code",
   "execution_count": 3,
   "metadata": {},
   "outputs": [],
   "source": [
    "double_well_asymmetric = DoubleWell(n_particles = 1, mass = 64 * unit.amu,\n",
    "                                    Eo=4.0 * unit.kilocalories_per_mole,\n",
    "                                    a=1.0 * unit.nanometers,\n",
    "                                    b=0.25 * unit.kilocalories_per_mole)"
   ]
  },
  {
   "cell_type": "markdown",
   "metadata": {},
   "source": [
    "Let's plot the potential energy along the coordinate X with $y=0$ and $z=0$:"
   ]
  },
  {
   "cell_type": "code",
   "execution_count": 4,
   "metadata": {},
   "outputs": [
    {
     "data": {
      "image/png": "[encoded data removed]",
      "text/plain": [
       "<Figure size 432x288 with 1 Axes>"
      ]
     },
     "metadata": {
      "needs_background": "light"
     },
     "output_type": "display_data"
    }
   ],
   "source": [
    "x_serie = np.arange(-2., 2., 0.05) * unit.nanometers\n",
    "xyz_serie = np.zeros([x_serie.shape[0],3], dtype=float)* unit.nanometers\n",
    "xyz_serie[:,0] = x_serie\n",
    "\n",
    "U_x = double_well_asymmetric.potential_energy(xyz_serie)\n",
    "\n",
    "plt.plot(x_serie, U_x, 'r-')\n",
    "plt.ylim(-5,1)\n",
    "plt.xlim(-2,2)\n",
    "plt.xlabel(\"X ({})\".format(unit.nanometers))\n",
    "plt.ylabel(\"Potential Energy ({})\".format(unit.kilocalories_per_mole))\n",
    "plt.title(\"Asymmetric Double Well\")\n",
    "plt.show()"
   ]
  },
  {
   "cell_type": "markdown",
   "metadata": {},
   "source": [
    "The object has some methods offering relevant information such as the position of the potential mimima and maxima:"
   ]
  },
  {
   "cell_type": "code",
   "execution_count": 5,
   "metadata": {},
   "outputs": [
    {
     "data": {
      "text/plain": [
       "[Quantity(value=array([-0.99209399,  0.        ,  0.        ]), unit=nanometer),\n",
       " Quantity(value=array([1.00772281, 0.        , 0.        ]), unit=nanometer)]"
      ]
     },
     "execution_count": 5,
     "metadata": {},
     "output_type": "execute_result"
    }
   ],
   "source": [
    "double_well_asymmetric.coordinates_minima()"
   ]
  },
  {
   "cell_type": "code",
   "execution_count": 6,
   "metadata": {},
   "outputs": [
    {
     "data": {
      "text/plain": [
       "[Quantity(value=array([-0.01562882,  0.        ,  0.        ]), unit=nanometer)]"
      ]
     },
     "execution_count": 6,
     "metadata": {},
     "output_type": "execute_result"
    }
   ],
   "source": [
    "double_well_asymmetric.coordinates_maxima()"
   ]
  },
  {
   "cell_type": "markdown",
   "metadata": {},
   "source": [
    "And the oscillation time periods corresponding to the armonic approximation of each potential energy minima:"
   ]
  },
  {
   "cell_type": "code",
   "execution_count": 7,
   "metadata": {},
   "outputs": [],
   "source": [
    "_, periods = double_well_asymmetric.armonic_oscillation_periods()"
   ]
  },
  {
   "cell_type": "code",
   "execution_count": 8,
   "metadata": {},
   "outputs": [
    {
     "data": {
      "text/plain": [
       "[Quantity(value=array([4.3963326 , 4.34409214, 4.34409214]), unit=picosecond),\n",
       " Quantity(value=array([4.2944394 , 4.34409214, 4.34409214]), unit=picosecond)]"
      ]
     },
     "execution_count": 8,
     "metadata": {},
     "output_type": "execute_result"
    }
   ],
   "source": [
    "periods"
   ]
  },
  {
   "cell_type": "markdown",
   "metadata": {},
   "source": [
    "The above oscillation periods mark a time reference for the integration time step of a molecular dynamics. The integration time should be at least ten times smaller than the fastest oscillation.\n",
    "\n",
    "Now we can produce a Langevin dynamics trajectory of the system at 300 K. The same UIBCDF_tests_systems library includes [OpenMM routines wrapped into methods to simulate quickly and effortless the test systems](http://www.uibcdf.org/UIBCDF_test_systems/_build/simulations/index.html). Let's then produce a 500 ns trajectory, saved every 5 ps, with an integration time of 0.2 ps."
   ]
  },
  {
   "cell_type": "code",
   "execution_count": 9,
   "metadata": {},
   "outputs": [
    {
     "name": "stderr",
     "output_type": "stream",
     "text": [
      "100%|██████████| 99999/99999 [01:41<00:00, 981.03it/s] \n"
     ]
    }
   ],
   "source": [
    "temperature = 300 * unit.kelvin\n",
    "integration_timestep = 0.2 * unit.picoseconds\n",
    "saving_timestep = 5.0 * unit.picoseconds\n",
    "total_time = 500 * unit.nanoseconds\n",
    "\n",
    "initial_positions =  np.zeros([1, 3], np.float32) * unit.nanometers\n",
    "initial_positions[0,0] = 1.0 * unit.nanometers\n",
    "\n",
    "initial_velocities = np.zeros([1, 3], np.float32) * unit.nanometers/unit.picoseconds\n",
    "\n",
    "time, traj, _, _, _ = langevin_NVT (double_well_asymmetric,\n",
    "                                    temperature = temperature,\n",
    "                                    friction = 5.0/unit.picoseconds,\n",
    "                                    initial_positions = initial_positions,\n",
    "                                    initial_velocities = initial_velocities,\n",
    "                                    integration_timestep = integration_timestep,\n",
    "                                    saving_timestep = saving_timestep,\n",
    "                                    total_time = total_time)"
   ]
  },
  {
   "cell_type": "markdown",
   "metadata": {},
   "source": [
    "The next two figures show the X coordinate of the trajectory in time and its histogram:"
   ]
  },
  {
   "cell_type": "code",
   "execution_count": 10,
   "metadata": {},
   "outputs": [
    {
     "data": {
      "image/png": "[encoded data removed]",
      "text/plain": [
       "<Figure size 432x288 with 1 Axes>"
      ]
     },
     "metadata": {
      "needs_background": "light"
     },
     "output_type": "display_data"
    }
   ],
   "source": [
    "plt.plot(time.in_units_of(unit.nanoseconds), traj[:,0,0])\n",
    "plt.xlabel('time ({})'.format(unit.nanoseconds))\n",
    "plt.ylabel('X ({})'.format(traj.unit))\n",
    "plt.show()"
   ]
  },
  {
   "cell_type": "code",
   "execution_count": 11,
   "metadata": {},
   "outputs": [
    {
     "data": {
      "image/png": "[encoded data removed]",
      "text/plain": [
       "<Figure size 432x288 with 1 Axes>"
      ]
     },
     "metadata": {
      "needs_background": "light"
     },
     "output_type": "display_data"
    }
   ],
   "source": [
    "hist, bin_edges = np.histogram(traj[:,0,0],bins=100, density=True)\n",
    "plt.plot((bin_edges[1:]+bin_edges[:-1])/2.0,hist)\n",
    "plt.show()"
   ]
  },
  {
   "cell_type": "markdown",
   "metadata": {},
   "source": [
    "More information on the behaviour of the double well potential can be found here and there."
   ]
  },
  {
   "cell_type": "markdown",
   "metadata": {},
   "source": [
    "## Discretizing the conformational space\n",
    "\n",
    "For the shake of simplicity, we will consider along this notebook that our molecular system lives in a unidimensional coordinate space. Thus, the position of the particle is precised by only a float number, its X coordinate. Now, to build a Markov state model or a kinetic transition network we can not work with continuous coordinates. Segments of the conformational space need to be defined as conformational microstates. In case of having a single reaction coordinate or unique dimension, the discretization is simple. The set of microstates will be defined as contiguous not overlapping segments of length $\\Delta x$.\n",
    "\n",
    "Looking at the histogram of our trajectory, the system didn't visit the regions of the conformational space $x \\in (-\\infty,-2.0)$ and $x \\in [2.0,\\infty)$. It is sure that all microstates defined in those regions will not contribute to our Markov state model. Let's then discretize the interval $[-2.0, 2.0)$ in $N$ microstates with a width $\\Delta x$. The microstates will be then labeled with an integer number $i$ between 0 and $N-1$ such that the bin of each microstate is defined as $[-2.0+i\\Delta x, -2.0+(i+1)\\Delta x)$:"
   ]
  },
  {
   "cell_type": "code",
   "execution_count": 12,
   "metadata": {},
   "outputs": [],
   "source": [
    "lower_limit = -2.0 * unit.nanometers\n",
    "upper_limit = 2.0 * unit.nanometers\n",
    "N = 40\n",
    "delta_x = (upper_limit-lower_limit)/N"
   ]
  },
  {
   "cell_type": "markdown",
   "metadata": {},
   "source": [
    "The length $\\Delta x$ is then:"
   ]
  },
  {
   "cell_type": "code",
   "execution_count": 13,
   "metadata": {},
   "outputs": [
    {
     "name": "stdout",
     "output_type": "stream",
     "text": [
      "0.1 nm\n"
     ]
    }
   ],
   "source": [
    "print(delta_x)"
   ]
  },
  {
   "cell_type": "markdown",
   "metadata": {},
   "source": [
    "To work with these microstates in the following sections, two auxiliary arrays will be defined: an array with the edges of the microstates and another one with the middle point of each microstate."
   ]
  },
  {
   "cell_type": "code",
   "execution_count": 14,
   "metadata": {},
   "outputs": [],
   "source": [
    "mss_edges = np.linspace(lower_limit._value, upper_limit._value, N+1, True)\n",
    "mss_edges = mss_edges*lower_limit.unit"
   ]
  },
  {
   "cell_type": "code",
   "execution_count": 15,
   "metadata": {},
   "outputs": [
    {
     "data": {
      "text/plain": [
       "Quantity(value=array([-2. , -1.9, -1.8, ...,  1.8,  1.9,  2. ]), unit=nanometer)"
      ]
     },
     "execution_count": 15,
     "metadata": {},
     "output_type": "execute_result"
    }
   ],
   "source": [
    "mss_edges"
   ]
  },
  {
   "cell_type": "code",
   "execution_count": 16,
   "metadata": {},
   "outputs": [],
   "source": [
    "mss_mid_point = (mss_edges[1:]+mss_edges[:-1])/2.0"
   ]
  },
  {
   "cell_type": "code",
   "execution_count": 17,
   "metadata": {},
   "outputs": [
    {
     "data": {
      "text/plain": [
       "Quantity(value=array([-1.95, -1.85, -1.75, ...,  1.75,  1.85,  1.95]), unit=nanometer)"
      ]
     },
     "execution_count": 17,
     "metadata": {},
     "output_type": "execute_result"
    }
   ],
   "source": [
    "mss_mid_point"
   ]
  },
  {
   "cell_type": "markdown",
   "metadata": {},
   "source": [
    "**Note**: At this point the effect of the number of microstates or their size on the Markov state model or the Kinetic transition network will not be a matter of discussion (see: XXX)."
   ]
  },
  {
   "cell_type": "markdown",
   "metadata": {},
   "source": [
    "## Getting the discrete trajectory\n",
    "\n",
    "### Time discretization\n",
    "\n",
    "The trajectory is time discrete by definition. The molecular dynamics integrates the time evolution of a system at discrete time steps -integration time step-, and in addition, we don't usually store the positions of the system every integration time step. A longer saving time step is used to store a trajectory not too big with the time resolution small enough to observed the dynamical behavior of interest. Thus, the trajectory was discretized in time by construction. In our case, let's call the saving time step of our trajectory $\\Delta t$. This will be then the smallest time step we can choose to build the Markov state model or the Kinetic transition network. But a longer time step can be used, always a multiple of the saving time step. Let's define time length $\\tau=n_{t} \\Delta t$, where $n_{t}$ is a positive integer number, as the time interval between consecutive frames used to build the model.\n",
    "\n",
    "In our case, we will define $n_{t}=1$ so $\\tau=\\Delta t$:"
   ]
  },
  {
   "cell_type": "code",
   "execution_count": 18,
   "metadata": {},
   "outputs": [],
   "source": [
    "n_t = 1\n",
    "tau = n_t * saving_timestep"
   ]
  },
  {
   "cell_type": "markdown",
   "metadata": {},
   "source": [
    "We will build a model with a trajectory extracted from our molecular dynamics with $T$ frames at time intervals of $\\tau$ length: "
   ]
  },
  {
   "cell_type": "code",
   "execution_count": 19,
   "metadata": {},
   "outputs": [
    {
     "name": "stdout",
     "output_type": "stream",
     "text": [
      "100000 frames\n"
     ]
    }
   ],
   "source": [
    "T = int(traj.shape[0]/n_t)\n",
    "print(T,'frames')"
   ]
  },
  {
   "cell_type": "code",
   "execution_count": 20,
   "metadata": {},
   "outputs": [
    {
     "name": "stdout",
     "output_type": "stream",
     "text": [
      "5.0 ps between frames\n"
     ]
    }
   ],
   "source": [
    "print(tau, 'between frames')"
   ]
  },
  {
   "cell_type": "markdown",
   "metadata": {},
   "source": [
    "Lets rewrite the trajectory object with the frames chosen to build the model:"
   ]
  },
  {
   "cell_type": "code",
   "execution_count": 21,
   "metadata": {},
   "outputs": [],
   "source": [
    "traj = traj[::n_t,:]"
   ]
  },
  {
   "cell_type": "code",
   "execution_count": 22,
   "metadata": {},
   "outputs": [
    {
     "data": {
      "text/plain": [
       "(100000, 1, 3)"
      ]
     },
     "execution_count": 22,
     "metadata": {},
     "output_type": "execute_result"
    }
   ],
   "source": [
    "traj.shape"
   ]
  },
  {
   "cell_type": "markdown",
   "metadata": {},
   "source": [
    "**Note**: At this point the effect of the $\\tau$ chosen on the resulting Markov state model or the Kinetic transition network will not be a matter of discussion (see: XXX)."
   ]
  },
  {
   "cell_type": "markdown",
   "metadata": {},
   "source": [
    "## Conformational discretization"
   ]
  },
  {
   "cell_type": "markdown",
   "metadata": {},
   "source": [
    "The conformational space, a unidimensional coordinate space in this case, was fragmented into conformational microstates. The trajectory chosen to build the Markov state model or the Kinetic transition network can be re-written to store, instead of the continuous X coordinate, the index of the microstate visited at each frame:"
   ]
  },
  {
   "cell_type": "code",
   "execution_count": 23,
   "metadata": {},
   "outputs": [],
   "source": [
    "discrete_traj = np.zeros([T], dtype=int)\n",
    "\n",
    "for frame_index in range(T):\n",
    "    aux_val = (traj[frame_index,0,0]-lower_limit)/delta_x\n",
    "    mss_index = np.floor(aux_val).astype(int)\n",
    "    discrete_traj[frame_index]=mss_index"
   ]
  },
  {
   "cell_type": "code",
   "execution_count": 24,
   "metadata": {},
   "outputs": [
    {
     "data": {
      "text/plain": [
       "array([30, 29, 29, ..., 31, 29, 30])"
      ]
     },
     "execution_count": 24,
     "metadata": {},
     "output_type": "execute_result"
    }
   ],
   "source": [
    "discrete_traj"
   ]
  },
  {
   "cell_type": "markdown",
   "metadata": {},
   "source": [
    "Finnally, we already have the trajectory discretized in time and space. This can then be interpreted as a sequence of consecutive events in time -a Markov chain- with which a Markov state model or a Kinetic transition network can be build."
   ]
  },
  {
   "cell_type": "markdown",
   "metadata": {},
   "source": [
    "## The Markov state model or the Kinetic transition network"
   ]
  },
  {
   "cell_type": "markdown",
   "metadata": {},
   "source": [
    "A set of events $\\{A_{i}\\}$, with $i=1,...N$, occurring in time can be observed as a sequence of $T$ consecutive events $S$ -a Markov chain- correspoding to $T$ observations made at time intervals of lenght $\\tau$:\n",
    "\n",
    "\\begin{equation}\n",
    "S=[ A_3, A_2, A_5, ..., A_1, A_7, A_3 ]\n",
    "\\end{equation}\n",
    "\n",
    "Once and event $A_i$ has being observed, the probability of observing an event $A_j$ after a time interval $n_\\tau \\tau$, where $n_tau$ is a positive integer, is denoted by:\n",
    "\n",
    "\\begin{equation}\n",
    "P(A_j, n_{\\tau} \\tau | A_i)\n",
    "\\end{equation}\n",
    "\n",
    "This probability, also known as the conditional probability of getting $A_j$ after $\\tau$ if the system was already at $A_i$, can be computed from the sequence $S$. This way the Markov chain is encoded as a matrix $P$ of conditional probabilities of shape $NxN$:\n",
    "\n",
    "\\begin{equation}\n",
    "P(A_j, n_t \\tau | A_i) = \\frac{W(A_j,n_t\\tau|A_i)_{S}}{w(A_i)_{S}}\n",
    "\\end{equation}\n",
    "\n",
    "Where $w(A_i)_{S}$ is the number of times the event $A_i$ was observed along the sequence S, and $W(A_j,n_\\tau \\tau|A_i)_{S}$ is the number of times the event $A_i$ and $A_j$ happened consecutively, in this order, separated by $n_\\tau$ observations of time $\\tau$.\n",
    "\n",
    "Thus:\n",
    "\n",
    "\\begin{equation}\n",
    "\\sum_j P(A_j, n_t \\tau | A_i) = 1\n",
    "\\end{equation}\n",
    "\n",
    "Once the conditional probabilities from a Markov chain, also known in this context as transition probabilities, have being defined, it can be proved that the conditional probabilities between more than two events can be computed from the conditional probabilities of consecutive events:\n",
    "\n",
    "\\begin{equation}\n",
    "P(A_j, 2\\tau | A_k, \\tau | A_i) = P(A_j, \\tau | A_k) P( A_k, \\tau | A_i)\n",
    "\\end{equation}\n",
    "\n",
    "This way, the conditional probability of observing the event $A_{j}$ after $2\\tau$ of $A_{i}$ happened can be computed as:\n",
    "\n",
    "\\begin{equation}\n",
    "P(A_j, 2\\tau | A_i) = \\sum_{k}P(A_j, \\tau | A_k) P( A_k, \\tau | A_i)\n",
    "\\end{equation}\n",
    "\n",
    "The unconditional probability of observing the event $A_{i}$ at any observation is denoted as:\n",
    "\n",
    "\\begin{equation}\n",
    "P(A_i)\n",
    "\\end{equation}\n",
    "\n",
    "This probability can be computed from the Markov chain as:\n",
    "\n",
    "\\begin{equation}\n",
    "P(A_i) = \\frac{w(A_i)_{S}}{\\sum_j w(A_j)_{S}} = \\frac{w(A_i)_{S}}{T}\n",
    "\\end{equation}\n",
    "\n",
    "Where $w(A_i)_{S}$ is the number of times the event $A_i$ was observed along the sequence S and $T$ is the total number of observations stored in the sequence, the length of S.\n",
    "\n",
    "It is then clear that:\n",
    "\n",
    "\\begin{equation}\n",
    "\\sum_i P(A_i) = 1\n",
    "\\end{equation}\n",
    "\n",
    "\n",
    "A Markov chain is called reversible if there exist a probability distribution $\\pi_i$ such that:\n",
    "\n",
    "\\begin{equation}\n",
    "P(A_j, \\tau | A_i) \\pi_i = P(A_i, \\tau | A_j) \\pi_j\n",
    "\\end{equation}\n",
    "\n",
    "The distribution $\\pi_i$ is also called the stationary probability distribution given that:\n",
    "\n",
    "\\begin{equation}\n",
    "\\pi_i = \\sum_j P(A_i, \\tau | A_j) \\pi_j\n",
    "\\end{equation}\n",
    "\n",
    "In the case of having a Markov chain reversible, the unconditional probability of observing $A_i$, $P(A_i)$, is equal to $\\pi_i$. And this is the case of studing the trajectory of a molecular dynamics as markov chain.\n",
    "\n",
    "Now that it has being introduced how a Markov chain can be translated into a set of transition probabilities. Let's turn our discrete trajectory into a Markov states model. In this case, since the chain will be time-homogeneous, once the time interval between observations was defined to produce the chain of events, we can write the conditional probabilities as:\n",
    "\n",
    "\\begin{equation}\n",
    "P(A_j, \\tau | A_i) \\equiv P_{ji}\n",
    "\\end{equation}"
   ]
  },
  {
   "cell_type": "markdown",
   "metadata": {},
   "source": [
    "## Number of visits or weight of a microstate\n",
    "\n",
    "Lets call \"weight of a microstate\" as the number of times the trajectory visited a certain microstate. Lets collect from the trajectory these weights:"
   ]
  },
  {
   "cell_type": "code",
   "execution_count": 25,
   "metadata": {},
   "outputs": [],
   "source": [
    "w=np.zeros([N], dtype=int)\n",
    "\n",
    "for mss_index in discrete_traj:\n",
    "    w[mss_index]+=1"
   ]
  },
  {
   "cell_type": "code",
   "execution_count": 26,
   "metadata": {},
   "outputs": [
    {
     "data": {
      "text/plain": [
       "array([0, 0, 0, ..., 0, 0, 0])"
      ]
     },
     "execution_count": 26,
     "metadata": {},
     "output_type": "execute_result"
    }
   ],
   "source": [
    "w"
   ]
  },
  {
   "cell_type": "markdown",
   "metadata": {},
   "source": [
    "In any case, the sum of the weights of all microstates is equal to the number of trajectory frames:"
   ]
  },
  {
   "cell_type": "code",
   "execution_count": 27,
   "metadata": {},
   "outputs": [
    {
     "data": {
      "text/plain": [
       "100000"
      ]
     },
     "execution_count": 27,
     "metadata": {},
     "output_type": "execute_result"
    }
   ],
   "source": [
    "np.sum(w)"
   ]
  },
  {
   "cell_type": "code",
   "execution_count": 28,
   "metadata": {},
   "outputs": [
    {
     "data": {
      "text/plain": [
       "100000"
      ]
     },
     "execution_count": 28,
     "metadata": {},
     "output_type": "execute_result"
    }
   ],
   "source": [
    "T"
   ]
  },
  {
   "cell_type": "markdown",
   "metadata": {},
   "source": [
    "Some of the microstates where not visited along the trajectory:"
   ]
  },
  {
   "cell_type": "code",
   "execution_count": 29,
   "metadata": {},
   "outputs": [
    {
     "data": {
      "text/plain": [
       "10"
      ]
     },
     "execution_count": 29,
     "metadata": {},
     "output_type": "execute_result"
    }
   ],
   "source": [
    "np.sum(w==0)"
   ]
  },
  {
   "cell_type": "markdown",
   "metadata": {},
   "source": [
    "Plotting the weight of each microstate is straightforward:"
   ]
  },
  {
   "cell_type": "code",
   "execution_count": 30,
   "metadata": {},
   "outputs": [
    {
     "data": {
      "image/png": "[encoded data removed]",
      "text/plain": [
       "<Figure size 432x288 with 1 Axes>"
      ]
     },
     "metadata": {
      "needs_background": "light"
     },
     "output_type": "display_data"
    }
   ],
   "source": [
    "plt.bar(range(N), w)\n",
    "plt.ylabel('Weight')\n",
    "plt.xlabel('Microstate index')\n",
    "plt.show()"
   ]
  },
  {
   "cell_type": "markdown",
   "metadata": {},
   "source": [
    "In this unidimensional system, we can have an illustrative figure plotting the weights over the coordinate X. This time, instead of drawing steps or bars, the value of the weight will be given to the middle point of each bin:"
   ]
  },
  {
   "cell_type": "code",
   "execution_count": 31,
   "metadata": {},
   "outputs": [
    {
     "data": {
      "image/png": "[encoded data removed]",
      "text/plain": [
       "<Figure size 432x288 with 1 Axes>"
      ]
     },
     "metadata": {
      "needs_background": "light"
     },
     "output_type": "display_data"
    }
   ],
   "source": [
    "plt.plot(mss_mid_point, w)\n",
    "plt.ylabel('Weight')\n",
    "plt.xlabel('X')\n",
    "plt.show()"
   ]
  },
  {
   "cell_type": "markdown",
   "metadata": {},
   "source": [
    "## Occupation probability of a microstate"
   ]
  },
  {
   "cell_type": "markdown",
   "metadata": {},
   "source": [
    "The system probability of being in a given microstate is obtained dividing its weight by the total number of frames, or the sum of all microstate weights:"
   ]
  },
  {
   "cell_type": "code",
   "execution_count": 32,
   "metadata": {},
   "outputs": [],
   "source": [
    "pi = w/w.sum()"
   ]
  },
  {
   "cell_type": "code",
   "execution_count": 33,
   "metadata": {},
   "outputs": [
    {
     "data": {
      "image/png": "[encoded data removed]",
      "text/plain": [
       "<Figure size 432x288 with 1 Axes>"
      ]
     },
     "metadata": {
      "needs_background": "light"
     },
     "output_type": "display_data"
    }
   ],
   "source": [
    "plt.plot(mss_mid_point, pi)\n",
    "plt.ylabel('Probability')\n",
    "plt.xlabel('X')\n",
    "plt.show()"
   ]
  },
  {
   "cell_type": "markdown",
   "metadata": {},
   "source": [
    "Keep in mind that this former plot shows the occupation probability of each microstate, and not the probability density function of the system in the X coordinate. In other words, this is not the probability of being in any x coordinate. Not even the probability of being in the middle point of each microstate. This is the probability $\\pi_i$ of being in at any point in the segment of width $\\Delta x$ corresponding to the microstate $i$."
   ]
  },
  {
   "cell_type": "markdown",
   "metadata": {},
   "source": [
    "## Number of times a transition between microstates is observed along the trajectory or weight of a transition between microstates.\n",
    "\n",
    "With the microstates defined, a matrix storing the times a transition between microstates is observed along the trajectory can be defined. Lets name this matrix $W$. This way, the value $W_{ji}$ is the number of times the system went from bin $i$ to bin $j$ in a timestep of length $\\tau$."
   ]
  },
  {
   "cell_type": "code",
   "execution_count": 34,
   "metadata": {},
   "outputs": [],
   "source": [
    "W = np.zeros([N, N], dtype=int)"
   ]
  },
  {
   "cell_type": "code",
   "execution_count": 35,
   "metadata": {},
   "outputs": [],
   "source": [
    "for frame_index in range(T-1):\n",
    "    ii = discrete_traj[frame_index]\n",
    "    jj = discrete_traj[frame_index+1]\n",
    "    W[jj, ii] += 1"
   ]
  },
  {
   "cell_type": "code",
   "execution_count": 36,
   "metadata": {},
   "outputs": [
    {
     "data": {
      "text/plain": [
       "array([[0, 0, 0, ..., 0, 0, 0],\n",
       "       [0, 0, 0, ..., 0, 0, 0],\n",
       "       [0, 0, 0, ..., 0, 0, 0],\n",
       "       ...,\n",
       "       [0, 0, 0, ..., 0, 0, 0],\n",
       "       [0, 0, 0, ..., 0, 0, 0],\n",
       "       [0, 0, 0, ..., 0, 0, 0]])"
      ]
     },
     "execution_count": 36,
     "metadata": {},
     "output_type": "execute_result"
    }
   ],
   "source": [
    "W"
   ]
  },
  {
   "cell_type": "markdown",
   "metadata": {},
   "source": [
    "Let's play a bit with the transitions matrix to be familiar with its meaning. For example, we can wonder how many different transitions $i$ to $j$ were observed along the trajectory compared with the total number of possible transitions in the space of discrete microstates."
   ]
  },
  {
   "cell_type": "code",
   "execution_count": 37,
   "metadata": {},
   "outputs": [
    {
     "data": {
      "text/plain": [
       "1600"
      ]
     },
     "execution_count": 37,
     "metadata": {},
     "output_type": "execute_result"
    }
   ],
   "source": [
    "N * N # number of possible transitions"
   ]
  },
  {
   "cell_type": "code",
   "execution_count": 38,
   "metadata": {},
   "outputs": [
    {
     "data": {
      "text/plain": [
       "1229"
      ]
     },
     "execution_count": 38,
     "metadata": {},
     "output_type": "execute_result"
    }
   ],
   "source": [
    "np.sum(W==0) # number of transitions visited at least once"
   ]
  },
  {
   "cell_type": "code",
   "execution_count": 39,
   "metadata": {},
   "outputs": [
    {
     "data": {
      "text/plain": [
       "371"
      ]
     },
     "execution_count": 39,
     "metadata": {},
     "output_type": "execute_result"
    }
   ],
   "source": [
    "np.sum(W>0) # number of transitions not observed along the trajectory"
   ]
  },
  {
   "cell_type": "markdown",
   "metadata": {},
   "source": [
    "Let's see now the number of times a transition was observed from a certain microstate $i$ to any other microstate including itself:"
   ]
  },
  {
   "cell_type": "code",
   "execution_count": 40,
   "metadata": {},
   "outputs": [
    {
     "data": {
      "text/plain": [
       "1026"
      ]
     },
     "execution_count": 40,
     "metadata": {},
     "output_type": "execute_result"
    }
   ],
   "source": [
    "ii = 25\n",
    "W[:, ii].sum()"
   ]
  },
  {
   "cell_type": "markdown",
   "metadata": {},
   "source": [
    "And let's see now the number of times a transitions was observed to the same certain microstate $i$ from any other microstate including itself:"
   ]
  },
  {
   "cell_type": "code",
   "execution_count": 41,
   "metadata": {},
   "outputs": [
    {
     "data": {
      "text/plain": [
       "1026"
      ]
     },
     "execution_count": 41,
     "metadata": {},
     "output_type": "execute_result"
    }
   ],
   "source": [
    "W[ii,:].sum()"
   ]
  },
  {
   "cell_type": "markdown",
   "metadata": {},
   "source": [
    "And lets compare this with the number of times the microstate $i$ was visited along the trajectory:"
   ]
  },
  {
   "cell_type": "code",
   "execution_count": 42,
   "metadata": {},
   "outputs": [
    {
     "data": {
      "text/plain": [
       "1026"
      ]
     },
     "execution_count": 42,
     "metadata": {},
     "output_type": "execute_result"
    }
   ],
   "source": [
    "w[ii]"
   ]
  },
  {
   "cell_type": "markdown",
   "metadata": {},
   "source": [
    "By construction, it is then true that for almost all $i$:\n",
    "\n",
    "\\begin{equation}\n",
    "\\sum_{j} W_{ij} = \\sum_{j} W_{ji} = w_{i}\n",
    "\\end{equation}\n"
   ]
  },
  {
   "cell_type": "markdown",
   "metadata": {},
   "source": [
    "The first microstate and the last microstate visited in the trajectory may have a hop on, or a hop off, more than the total number of reverse transitions. Again, by construction:"
   ]
  },
  {
   "cell_type": "code",
   "execution_count": 43,
   "metadata": {},
   "outputs": [],
   "source": [
    "first_microstate = discrete_traj[0] # First microstate observed in the trajectory"
   ]
  },
  {
   "cell_type": "code",
   "execution_count": 44,
   "metadata": {},
   "outputs": [
    {
     "data": {
      "text/plain": [
       "0"
      ]
     },
     "execution_count": 44,
     "metadata": {},
     "output_type": "execute_result"
    }
   ],
   "source": [
    "W[first_microstate,:].sum()-W[:,first_microstate].sum()"
   ]
  },
  {
   "cell_type": "code",
   "execution_count": 45,
   "metadata": {},
   "outputs": [
    {
     "data": {
      "text/plain": [
       "-1"
      ]
     },
     "execution_count": 45,
     "metadata": {},
     "output_type": "execute_result"
    }
   ],
   "source": [
    "W[first_microstate,:].sum()-w[first_microstate]"
   ]
  },
  {
   "cell_type": "markdown",
   "metadata": {},
   "source": [
    "And:"
   ]
  },
  {
   "cell_type": "code",
   "execution_count": 46,
   "metadata": {},
   "outputs": [],
   "source": [
    "last_microstate = discrete_traj[-1] # First microstate observed in the trajectory"
   ]
  },
  {
   "cell_type": "code",
   "execution_count": 47,
   "metadata": {},
   "outputs": [
    {
     "data": {
      "text/plain": [
       "0"
      ]
     },
     "execution_count": 47,
     "metadata": {},
     "output_type": "execute_result"
    }
   ],
   "source": [
    "W[last_microstate,:].sum()-W[:,last_microstate].sum()"
   ]
  },
  {
   "cell_type": "code",
   "execution_count": 48,
   "metadata": {},
   "outputs": [
    {
     "data": {
      "text/plain": [
       "1"
      ]
     },
     "execution_count": 48,
     "metadata": {},
     "output_type": "execute_result"
    }
   ],
   "source": [
    "w[last_microstate]-W[:,last_microstate].sum()"
   ]
  },
  {
   "cell_type": "markdown",
   "metadata": {},
   "source": [
    "The first microstate visited will have a hop on less to balance the number of hops off. The trajectory was already there when we started to count transitions. On the other side the last microstate visited in the trajectory will have a hop off less. The trajectory stopped there. But if the trajectory is long enough this differences will be statistically negligible."
   ]
  },
  {
   "cell_type": "markdown",
   "metadata": {},
   "source": [
    "If the trajectory is long enough, and thereby representative of the equilibrium, the number of times a transition $i \\rightarrow j$ is observed should be equal to the number of times the system made the reverse transition $j \\rightarrow i$. And thus the matrix $W$ should be simmetric. But in a real case it does only happen approximately. Actually, a matrix $W$ far from simmetricity could be interpreted as a symptom of having a trajectory  not capturing the equilibrium dynamics of the system."
   ]
  },
  {
   "cell_type": "code",
   "execution_count": 49,
   "metadata": {},
   "outputs": [
    {
     "data": {
      "text/plain": [
       "34"
      ]
     },
     "execution_count": 49,
     "metadata": {},
     "output_type": "execute_result"
    }
   ],
   "source": [
    "W[7,12]"
   ]
  },
  {
   "cell_type": "code",
   "execution_count": 50,
   "metadata": {},
   "outputs": [
    {
     "data": {
      "text/plain": [
       "35"
      ]
     },
     "execution_count": 50,
     "metadata": {},
     "output_type": "execute_result"
    }
   ],
   "source": [
    "W[12,7]"
   ]
  },
  {
   "cell_type": "markdown",
   "metadata": {},
   "source": [
    "Finnally, the weight of each transition out of a certain microstate $i$ to any $j$ can be plot:"
   ]
  },
  {
   "cell_type": "code",
   "execution_count": 51,
   "metadata": {},
   "outputs": [
    {
     "data": {
      "image/png": "[encoded data removed]",
      "text/plain": [
       "<Figure size 432x288 with 1 Axes>"
      ]
     },
     "metadata": {
      "needs_background": "light"
     },
     "output_type": "display_data"
    }
   ],
   "source": [
    "ii=26\n",
    "\n",
    "plt.bar(range(N), W[:,ii])\n",
    "plt.ylabel('Weight Transition {} -> j'.format(ii))\n",
    "plt.xlabel('j index')\n",
    "plt.show()"
   ]
  },
  {
   "cell_type": "markdown",
   "metadata": {},
   "source": [
    "Or thanks to the fact that we can assign a representant point to each microstate, the middle point of the bin, we can plot the weigts of the these transitions over the X coordinate. The following figure shows these weights for the transitions out a microstate $i$ together with a vertical red stripe indicating the segment of X where $i$ is defined. In addition, the potential energy landscape is shown with a grey dashed line as reference:"
   ]
  },
  {
   "cell_type": "code",
   "execution_count": 52,
   "metadata": {},
   "outputs": [
    {
     "data": {
      "image/png": "[encoded data removed]",
      "text/plain": [
       "<Figure size 432x288 with 2 Axes>"
      ]
     },
     "metadata": {
      "needs_background": "light"
     },
     "output_type": "display_data"
    }
   ],
   "source": [
    "ii = 26\n",
    "\n",
    "fig, ax1 = plt.subplots()\n",
    "\n",
    "ax1.plot(mss_mid_point, W[:,ii])\n",
    "ax1.axvspan(mss_edges[ii]._value, mss_edges[ii+1]._value, alpha=0.2, color='red')\n",
    "ax1.set_ylabel('Weight Transition {} -> j'.format(ii))\n",
    "ax1.set_xlabel('X')\n",
    "\n",
    "ax2 = ax1.twinx()  # instantiate a second axes that shares the same x-axis\n",
    "\n",
    "ax2.plot(x_serie, U_x, '--', c='0.5')\n",
    "ax2.set_ylim(-5,1)\n",
    "ax2.set_ylabel(\"Potential Energy ({})\".format(unit.kilocalories_per_mole))\n",
    "\n",
    "fig.tight_layout()\n",
    "plt.show()"
   ]
  },
  {
   "cell_type": "markdown",
   "metadata": {},
   "source": [
    "The transition weights can also be represented as a color code matrix:"
   ]
  },
  {
   "cell_type": "code",
   "execution_count": 53,
   "metadata": {},
   "outputs": [
    {
     "data": {
      "image/png": "[encoded data removed]",
      "text/plain": [
       "<Figure size 288x288 with 1 Axes>"
      ]
     },
     "metadata": {
      "needs_background": "light"
     },
     "output_type": "display_data"
    }
   ],
   "source": [
    "plt.matshow(W, cmap='Greys')\n",
    "plt.show()"
   ]
  },
  {
   "cell_type": "markdown",
   "metadata": {},
   "source": [
    "## Transition probabilities between microstates\n",
    "\n",
    "Once the system is in the microstate $i$, the probability of visiting the microstate $j$ after a time interval $\\tau$ is written as $P_{i,j}(\\tau)$. $P_{i,j}(\\tau)$ is called \"transition probability\" since it is the probability of going from one microstate to another after a certain time period. For each microstate $i$, the sum of all transition probabilities out $i$ is equal to one:\n",
    "\n",
    "\\begin{equation}\n",
    "\\sum_{j} P_{ji}(\\tau) = 1\n",
    "\\end{equation}\n",
    "\n",
    "Once the weights of the transitions have being computed, getting the transition probabilities is straightforward:\n",
    "\n",
    "\\begin{equation}\n",
    "P_{ji} = \\frac{W_{ji}}{\\sum_{l} W_{li}} = \\frac{W_{ji}}{w_{i}}\n",
    "\\end{equation}"
   ]
  },
  {
   "cell_type": "markdown",
   "metadata": {},
   "source": [
    "Let's the get the transition probabilities from the transition weights stored in matrix $W$:"
   ]
  },
  {
   "cell_type": "code",
   "execution_count": 54,
   "metadata": {},
   "outputs": [],
   "source": [
    "P = np.zeros([N,N], dtype=float)\n",
    "\n",
    "for ii in range(N):\n",
    "    if W[:,ii].sum()>0:\n",
    "        P[:,ii] = W[:,ii]/W[:,ii].sum()"
   ]
  },
  {
   "cell_type": "markdown",
   "metadata": {},
   "source": [
    "This way, by construction:"
   ]
  },
  {
   "cell_type": "code",
   "execution_count": 55,
   "metadata": {},
   "outputs": [
    {
     "data": {
      "text/plain": [
       "1.0"
      ]
     },
     "execution_count": 55,
     "metadata": {},
     "output_type": "execute_result"
    }
   ],
   "source": [
    "P[:,26].sum()"
   ]
  },
  {
   "cell_type": "markdown",
   "metadata": {},
   "source": [
    "As we did before with the transition weights, we can represent the transition probabilities making use of the middle point of the bin associated to each microstate. The following figure shows the transition probabilities of the microstate $i$ to any other microstate. A red vertical strip indicates the extension of the microstate $i$ along X, and the grey dashed line represents the underlaying potential energy for reference:"
   ]
  },
  {
   "cell_type": "code",
   "execution_count": 56,
   "metadata": {},
   "outputs": [
    {
     "data": {
      "image/png": "[encoded data removed]",
      "text/plain": [
       "<Figure size 432x288 with 2 Axes>"
      ]
     },
     "metadata": {
      "needs_background": "light"
     },
     "output_type": "display_data"
    }
   ],
   "source": [
    "ii = 26\n",
    "\n",
    "fig, ax1 = plt.subplots()\n",
    "\n",
    "ax1.plot(mss_mid_point, P[:,ii])\n",
    "ax1.axvspan(mss_edges[ii]._value, mss_edges[ii+1]._value, alpha=0.2, color='red')\n",
    "ax1.set_ylabel('Transition Probability {} -> j'.format(ii))\n",
    "ax1.set_xlabel('X')\n",
    "\n",
    "ax2 = ax1.twinx()  # instantiate a second axes that shares the same x-axis\n",
    "\n",
    "ax2.plot(x_serie, U_x, '--', c='0.5')\n",
    "ax2.set_ylim(-5,1)\n",
    "ax2.set_ylabel(\"Potential Energy ({})\".format(unit.kilocalories_per_mole))\n",
    "\n",
    "fig.tight_layout()\n",
    "plt.show()"
   ]
  },
  {
   "cell_type": "markdown",
   "metadata": {},
   "source": [
    "The transition probability matrix can also be represented as a 2D plot in grey scale color code:"
   ]
  },
  {
   "cell_type": "code",
   "execution_count": 57,
   "metadata": {},
   "outputs": [
    {
     "data": {
      "image/png": "[encoded data removed]",
      "text/plain": [
       "<Figure size 288x288 with 1 Axes>"
      ]
     },
     "metadata": {
      "needs_background": "light"
     },
     "output_type": "display_data"
    }
   ],
   "source": [
    "plt.matshow(P, cmap='Greys')\n",
    "plt.show()"
   ]
  },
  {
   "cell_type": "markdown",
   "metadata": {},
   "source": [
    "## Detailed balance condition on the discrete kinetic model\n",
    "\n",
    "If the trajectory is large enough, close to capture equilibrium, the number of times the system went from $i$ to $j$ is equal to the number of times the system went from $j$ to $i$ for all microstates $i$ and $j$. This is known us the \"detailed balance\" condition:\n",
    "\n",
    "\\begin{equation}\n",
    "W_{ji} = W_{ij}\n",
    "\\end{equation}\n",
    "\n",
    "Which written in terms of the transition probabilities:\n",
    "\n",
    "\\begin{equation}\n",
    "P_{ji} w_{i} = P_{ij} w_{j}\n",
    "\\end{equation}\n",
    "\n",
    "And writting the number of visits in each microstate using the occupation probability:\n",
    "\n",
    "\\begin{equation}\n",
    "P_{ji} \\pi_{i} T = P_{ij} \\pi_{j} T\n",
    "\\end{equation}\n",
    "\n",
    "Which leaves us with the detalied balance condition written in terms of the occupation and transition probability:\n",
    "\n",
    "\\begin{equation}\n",
    "P_{ji} \\pi_{i} = P_{ij} \\pi_{j}\n",
    "\\end{equation}"
   ]
  },
  {
   "cell_type": "markdown",
   "metadata": {},
   "source": [
    "## The transition probability matrix as a time evolution operator or propagator"
   ]
  },
  {
   "cell_type": "markdown",
   "metadata": {},
   "source": [
    "The transition probability matrix represents a model for the thermodynamics and kinetics of our molecular system. As a mathematical matrix, $P$ can be understood as an operator which function is propagating a probability distribution a single $\\tau$ time step. Let's define, for example, an initial distribution for the microstates which contains all probability in a single microstate $i$ that you can choose:"
   ]
  },
  {
   "cell_type": "code",
   "execution_count": 59,
   "metadata": {},
   "outputs": [],
   "source": [
    "ii = 30\n",
    "p0 = np.zeros([N], dtype=float)\n",
    "p0[ii] = 1.0"
   ]
  },
  {
   "cell_type": "markdown",
   "metadata": {},
   "source": [
    "The system is initially in the $i$ macrostate with a probability $p_i=1.0$. There is no probability to observe the system in any other microstate at t=0. Now, if we let the time runs, the system has to evolve according to what is dictated by the transition matrix $P$:\n",
    "\n",
    "\\begin{equation}\n",
    "p_i(\\tau) = \\sum_j P_{ij} p_j(0)\n",
    "\\end{equation}\n",
    "\n",
    "Lets calculate this way the probability distribution at $t=\\tau$:"
   ]
  },
  {
   "cell_type": "code",
   "execution_count": 62,
   "metadata": {},
   "outputs": [],
   "source": [
    "ptau = np.zeros([N], dtype=float)\n",
    "\n",
    "for ii in range(N):\n",
    "    for jj in range(N):\n",
    "        ptau[jj]+=P[jj,ii]*p0[ii]"
   ]
  },
  {
   "cell_type": "markdown",
   "metadata": {},
   "source": [
    "Let's show over X, using the middle points of the microstates, how the initial probability distribution evolved in a time \\tau:"
   ]
  },
  {
   "cell_type": "code",
   "execution_count": 75,
   "metadata": {},
   "outputs": [
    {
     "data": {
      "image/png": "[encoded data removed]",
      "text/plain": [
       "<Figure size 432x288 with 2 Axes>"
      ]
     },
     "metadata": {
      "needs_background": "light"
     },
     "output_type": "display_data"
    }
   ],
   "source": [
    "fig, ax1 = plt.subplots()\n",
    "\n",
    "ax1.plot(mss_mid_point, p0, label='t=0')\n",
    "ax1.plot(mss_mid_point, ptau, label=r't=$\\tau$')\n",
    "ax1.set_ylabel('Transition Probability {} -> j'.format(ii))\n",
    "ax1.set_xlabel('X')\n",
    "ax1.legend()\n",
    "\n",
    "ax2 = ax1.twinx()  # instantiate a second axes that shares the same x-axis\n",
    "\n",
    "ax2.plot(x_serie, U_x, '--', c='0.5')\n",
    "ax2.set_ylim(-5,1)\n",
    "ax2.set_ylabel(\"Potential Energy ({})\".format(unit.kilocalories_per_mole))\n",
    "\n",
    "fig.tight_layout()\n",
    "plt.show()"
   ]
  },
  {
   "cell_type": "markdown",
   "metadata": {},
   "source": [
    "If you observed carefully the loops to propagate the distribution with the transition probability values $Pij$, what we are doing is the definition of mathematical multiplication of a Matrix and a vector this way:\n",
    "\n",
    "\\begin{equation}\n",
    "\\vec{p}(t+\\tau)=P\\cdot \\vec{p}(t)\n",
    "\\end{equation}\n",
    "\n",
    "There is a numpy method to do this avoiding the loops:"
   ]
  },
  {
   "cell_type": "code",
   "execution_count": 76,
   "metadata": {},
   "outputs": [],
   "source": [
    "ptau = np.matmul(P,p0)"
   ]
  },
  {
   "cell_type": "markdown",
   "metadata": {},
   "source": [
    "We can then iterate this multiplication to observe the time evolution of the occupation probability of the system in each microstate starting with an initial conditions. Let's propagate the probability along $f$ time steps, and let's store how the probability is at each integration time:"
   ]
  },
  {
   "cell_type": "code",
   "execution_count": 112,
   "metadata": {},
   "outputs": [],
   "source": [
    "ii = 10\n",
    "p = np.zeros([N], dtype=float)\n",
    "p[ii] = 1.0\n",
    "\n",
    "f = 8000\n",
    "ps = np.zeros([f,N], dtype=float)\n",
    "ps[0,:] = p[:]\n",
    "\n",
    "for step in range(1,f):\n",
    "    p = np.matmul(P,p)\n",
    "    ps[step,:]=p[:]"
   ]
  },
  {
   "cell_type": "markdown",
   "metadata": {},
   "source": [
    "Let's see how the probability distribution evolved in time. A slide bar can be added to the plot to choose the time step to be shown:"
   ]
  },
  {
   "cell_type": "code",
   "execution_count": 144,
   "metadata": {},
   "outputs": [
    {
     "data": {
      "application/vnd.jupyter.widget-view+json": {
       "model_id": "53b3fd80dc75474d81f5888ccb75bbfb",
       "version_major": 2,
       "version_minor": 0
      },
      "text/plain": [
       "interactive(children=(IntSlider(value=0, description='step', layout=Layout(width='100%'), max=7999), Output(la…"
      ]
     },
     "metadata": {},
     "output_type": "display_data"
    }
   ],
   "source": [
    "def figure_probability_distribution(step=0):\n",
    "\n",
    "    fig, ax1 = plt.subplots()\n",
    "\n",
    "    ax1.plot(mss_mid_point, ps[step,:], label=r't={}$\\tau$'.format(step))\n",
    "    ax1.plot(mss_mid_point, pi, ':', c='C0')\n",
    "    ax1.set_ylabel('Probability')\n",
    "    ax1.set_xlabel('X')\n",
    "    ax1.set_ylim([0.0, 1.1])\n",
    "    ax1.legend()\n",
    "\n",
    "    ax2 = ax1.twinx()  # instantiate a second axes that shares the same x-axis\n",
    "\n",
    "    ax2.plot(x_serie, U_x, '--', c='0.5')\n",
    "    ax2.set_ylim(-5,1)\n",
    "    ax2.set_ylabel(\"Potential Energy ({})\".format(unit.kilocalories_per_mole))\n",
    "\n",
    "    fig.tight_layout()\n",
    "    plt.show()\n",
    "\n",
    "interactive_plot = ipywidgets.interactive(figure_probability_distribution, step=(0, f-1, 1))\n",
    "interactive_plot.children[-1].layout.height = '350px'\n",
    "interactive_plot.children[0].layout.width = '100%'\n",
    "interactive_plot"
   ]
  },
  {
   "cell_type": "markdown",
   "metadata": {},
   "source": [
    "As it can be observed in the above interactive figure, there is an initial phase where the well containing the initial microstate relaxes placing probability in its microstates. This happens quickly. After that the probability of this well decreases while the probability of the microstates on the other well increases. Like in a communicating vessels game. Finnally, the distribution probability appears to change slightly in time, approaching asymptotically the stationary distribution $\\pi$ (dotted blue line)."
   ]
  },
  {
   "cell_type": "markdown",
   "metadata": {},
   "source": [
    "## The stationary probability distribution and the relaxation modes"
   ]
  },
  {
   "cell_type": "markdown",
   "metadata": {},
   "source": [
    "The transition probability matrix has an stationary solutions. Meaning that there is a probability distribution invariant under $P$:\n",
    "\n",
    "\\begin{equation}\n",
    "\\vec{\\pi} = P \\vec{\\pi} \n",
    "\\end{equation}\n",
    "\n",
    "This distribution $\\vec{\\pi}$ is what is called the equilibrium distribution. The system adopts a probability to be in each microstate invariant in time, stationary, in equilibrium. Mathematically speaking, $\\vec{\\pi}$ is an eigenvector of $P$ with eigenvalue $\\lambda = 1$:"
   ]
  },
  {
   "cell_type": "code",
   "execution_count": 188,
   "metadata": {},
   "outputs": [],
   "source": [
    "eigenvalues, eigenvectors = np.linalg.eig(P)"
   ]
  },
  {
   "cell_type": "markdown",
   "metadata": {},
   "source": [
    "Our matrix $P$ has columns with all probabilities equal to zero. The matrix will have then complex eigenvalues with its real part very close to zero."
   ]
  },
  {
   "cell_type": "code",
   "execution_count": 189,
   "metadata": {},
   "outputs": [
    {
     "data": {
      "text/plain": [
       "22"
      ]
     },
     "execution_count": 189,
     "metadata": {},
     "output_type": "execute_result"
    }
   ],
   "source": [
    "np.isreal(eigenvalues).sum() # Number of real eigenvalues"
   ]
  },
  {
   "cell_type": "code",
   "execution_count": 190,
   "metadata": {},
   "outputs": [
    {
     "data": {
      "text/plain": [
       "18"
      ]
     },
     "execution_count": 190,
     "metadata": {},
     "output_type": "execute_result"
    }
   ],
   "source": [
    "np.iscomplex(eigenvalues).sum() # Number of complex eigenvalues"
   ]
  },
  {
   "cell_type": "markdown",
   "metadata": {},
   "source": [
    "Let's plot the real part of all eigenvalues:"
   ]
  },
  {
   "cell_type": "code",
   "execution_count": 191,
   "metadata": {},
   "outputs": [
    {
     "data": {
      "image/png": "[encoded data removed]",
      "text/plain": [
       "<Figure size 432x288 with 1 Axes>"
      ]
     },
     "metadata": {
      "needs_background": "light"
     },
     "output_type": "display_data"
    }
   ],
   "source": [
    "plt.scatter(range(N), eigenvalues.real)\n",
    "plt.scatter(range(N), eigenvalues.imag)\n",
    "plt.show()"
   ]
  },
  {
   "cell_type": "markdown",
   "metadata": {},
   "source": [
    "There are two eigenvalues close to 1, the first two. Let's see the shape of the corresponding eigenvectors:"
   ]
  },
  {
   "cell_type": "code",
   "execution_count": 207,
   "metadata": {},
   "outputs": [
    {
     "data": {
      "image/png": "[encoded data removed]",
      "text/plain": [
       "<Figure size 432x288 with 2 Axes>"
      ]
     },
     "metadata": {
      "needs_background": "light"
     },
     "output_type": "display_data"
    }
   ],
   "source": [
    "fig, ax1 = plt.subplots()\n",
    "\n",
    "ax1.plot(mss_mid_point, eigenvectors[:,0].real, label='0')\n",
    "ax1.plot(mss_mid_point, eigenvectors[:,1].real, label='1')\n",
    "ax1.plot(mss_mid_point, eigenvectors[:,2].real, label='2')\n",
    "ax1.set_ylabel('Transition Probability {} -> j'.format(ii))\n",
    "ax1.set_xlabel('X')\n",
    "ax1.legend()\n",
    "\n",
    "ax2 = ax1.twinx()  # instantiate a second axes that shares the same x-axis\n",
    "\n",
    "ax2.plot(x_serie, U_x, '--', c='0.5')\n",
    "ax2.set_ylim(-5,1)\n",
    "ax2.set_ylabel(\"Potential Energy ({})\".format(unit.kilocalories_per_mole))\n",
    "\n",
    "fig.tight_layout()\n",
    "plt.show()"
   ]
  },
  {
   "cell_type": "markdown",
   "metadata": {},
   "source": [
    "## Automatic metastable states decomposition"
   ]
  },
  {
   "cell_type": "code",
   "execution_count": null,
   "metadata": {},
   "outputs": [],
   "source": []
  },
  {
   "cell_type": "markdown",
   "metadata": {},
   "source": [
    "## Kinetic transition network"
   ]
  },
  {
   "cell_type": "markdown",
   "metadata": {},
   "source": [
    "TODO"
   ]
  },
  {
   "cell_type": "code",
   "execution_count": null,
   "metadata": {},
   "outputs": [],
   "source": []
  }
 ],
 "metadata": {
  "kernelspec": {
   "display_name": "Python 3",
   "language": "python",
   "name": "python3"
  },
  "language_info": {
   "codemirror_mode": {
    "name": "ipython",
    "version": 3
   },
   "file_extension": ".py",
   "mimetype": "text/x-python",
   "name": "python",
   "nbconvert_exporter": "python",
   "pygments_lexer": "ipython3",
   "version": "3.7.7"
  }
 },
 "nbformat": 4,
 "nbformat_minor": 4
}
