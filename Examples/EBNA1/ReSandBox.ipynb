{
 "cells": [
  {
   "cell_type": "code",
   "execution_count": 1,
   "metadata": {},
   "outputs": [],
   "source": [
    "%load_ext autoreload\n",
    "%autoreload 2"
   ]
  },
  {
   "cell_type": "code",
   "execution_count": 2,
   "metadata": {},
   "outputs": [
    {
     "name": "stderr",
     "output_type": "stream",
     "text": [
      "/home/diego/Myopt/Miniconda/miniconda3/envs/UIBCDF_lab_dev/lib/python3.7/site-packages/yank-0.24.0-py3.7-linux-x86_64.egg/yank/experiment.py:1168: YAMLLoadWarning: calling yaml.load() without Loader=... is deprecated, as the default Loader is unsafe. Please read https://msg.pyyaml.org/load for full details.\n",
      "  \"\"\")\n"
     ]
    }
   ],
   "source": [
    "from simtk.openmm import app\n",
    "import molmodmt as m3t"
   ]
  },
  {
   "cell_type": "code",
   "execution_count": 3,
   "metadata": {},
   "outputs": [],
   "source": [
    "pdbfile = app.PDBFile('tras_leap2.pdb')"
   ]
  },
  {
   "cell_type": "code",
   "execution_count": 4,
   "metadata": {},
   "outputs": [
    {
     "data": {
      "text/plain": [
       "[Bond(<Atom 8 (C1') of chain 0 residue 0 (DG)>, <Atom 27 (C2') of chain 0 residue 0 (DG)>),\n",
       " Bond(<Atom 8 (C1') of chain 0 residue 0 (DG)>, <Atom 9 (H1') of chain 0 residue 0 (DG)>),\n",
       " Bond(<Atom 8 (C1') of chain 0 residue 0 (DG)>, <Atom 10 (N9) of chain 0 residue 0 (DG)>),\n",
       " Bond(<Atom 8 (C1') of chain 0 residue 0 (DG)>, <Atom 7 (O4') of chain 0 residue 0 (DG)>),\n",
       " Bond(<Atom 19 (C2) of chain 0 residue 0 (DG)>, <Atom 17 (N1) of chain 0 residue 0 (DG)>),\n",
       " Bond(<Atom 19 (C2) of chain 0 residue 0 (DG)>, <Atom 20 (N2) of chain 0 residue 0 (DG)>),\n",
       " Bond(<Atom 19 (C2) of chain 0 residue 0 (DG)>, <Atom 23 (N3) of chain 0 residue 0 (DG)>),\n",
       " Bond(<Atom 27 (C2') of chain 0 residue 0 (DG)>, <Atom 25 (C3') of chain 0 residue 0 (DG)>),\n",
       " Bond(<Atom 25 (C3') of chain 0 residue 0 (DG)>, <Atom 5 (C4') of chain 0 residue 0 (DG)>),\n",
       " Bond(<Atom 25 (C3') of chain 0 residue 0 (DG)>, <Atom 26 (H3') of chain 0 residue 0 (DG)>),\n",
       " Bond(<Atom 25 (C3') of chain 0 residue 0 (DG)>, <Atom 30 (O3') of chain 0 residue 0 (DG)>),\n",
       " Bond(<Atom 24 (C4) of chain 0 residue 0 (DG)>, <Atom 14 (C5) of chain 0 residue 0 (DG)>),\n",
       " Bond(<Atom 24 (C4) of chain 0 residue 0 (DG)>, <Atom 23 (N3) of chain 0 residue 0 (DG)>),\n",
       " Bond(<Atom 24 (C4) of chain 0 residue 0 (DG)>, <Atom 10 (N9) of chain 0 residue 0 (DG)>),\n",
       " Bond(<Atom 5 (C4') of chain 0 residue 0 (DG)>, <Atom 2 (C5') of chain 0 residue 0 (DG)>),\n",
       " Bond(<Atom 5 (C4') of chain 0 residue 0 (DG)>, <Atom 6 (H4') of chain 0 residue 0 (DG)>),\n",
       " Bond(<Atom 5 (C4') of chain 0 residue 0 (DG)>, <Atom 7 (O4') of chain 0 residue 0 (DG)>),\n",
       " Bond(<Atom 14 (C5) of chain 0 residue 0 (DG)>, <Atom 15 (C6) of chain 0 residue 0 (DG)>),\n",
       " Bond(<Atom 14 (C5) of chain 0 residue 0 (DG)>, <Atom 13 (N7) of chain 0 residue 0 (DG)>),\n",
       " Bond(<Atom 2 (C5') of chain 0 residue 0 (DG)>, <Atom 1 (O5') of chain 0 residue 0 (DG)>),\n",
       " Bond(<Atom 15 (C6) of chain 0 residue 0 (DG)>, <Atom 17 (N1) of chain 0 residue 0 (DG)>),\n",
       " Bond(<Atom 15 (C6) of chain 0 residue 0 (DG)>, <Atom 16 (O6) of chain 0 residue 0 (DG)>),\n",
       " Bond(<Atom 11 (C8) of chain 0 residue 0 (DG)>, <Atom 12 (H8) of chain 0 residue 0 (DG)>),\n",
       " Bond(<Atom 11 (C8) of chain 0 residue 0 (DG)>, <Atom 13 (N7) of chain 0 residue 0 (DG)>),\n",
       " Bond(<Atom 11 (C8) of chain 0 residue 0 (DG)>, <Atom 10 (N9) of chain 0 residue 0 (DG)>),\n",
       " Bond(<Atom 18 (H1) of chain 0 residue 0 (DG)>, <Atom 17 (N1) of chain 0 residue 0 (DG)>),\n",
       " Bond(<Atom 21 (H21) of chain 0 residue 0 (DG)>, <Atom 20 (N2) of chain 0 residue 0 (DG)>),\n",
       " Bond(<Atom 22 (H22) of chain 0 residue 0 (DG)>, <Atom 20 (N2) of chain 0 residue 0 (DG)>),\n",
       " Bond(<Atom 0 (HO5') of chain 0 residue 0 (DG)>, <Atom 1 (O5') of chain 0 residue 0 (DG)>),\n",
       " Bond(<Atom 30 (O3') of chain 0 residue 0 (DG)>, <Atom 31 (P) of chain 0 residue 1 (DG)>)]"
      ]
     },
     "execution_count": 4,
     "metadata": {},
     "output_type": "execute_result"
    }
   ],
   "source": [
    "list(pdbfile.topology.bonds())[0:30]"
   ]
  },
  {
   "cell_type": "code",
   "execution_count": null,
   "metadata": {},
   "outputs": [],
   "source": [
    "view = m3t.view(pdbfile)\n",
    "view.clear()\n",
    "view.add_ball_and_stick(':A and not water')\n",
    "view"
   ]
  },
  {
   "cell_type": "code",
   "execution_count": 5,
   "metadata": {},
   "outputs": [],
   "source": [
    "forcefield_generator = app.ForceField('amber99sbildn.xml','tip3p.xml')"
   ]
  },
  {
   "cell_type": "code",
   "execution_count": 6,
   "metadata": {},
   "outputs": [],
   "source": [
    "constraints = app.HBonds"
   ]
  },
  {
   "cell_type": "code",
   "execution_count": 7,
   "metadata": {},
   "outputs": [
    {
     "ename": "ValueError",
     "evalue": "No template found for residue 1 (DG).  The set of atoms matches DG5, but the bonds are different.  Perhaps the chain is missing a terminal group?",
     "output_type": "error",
     "traceback": [
      "\u001b[0;31m---------------------------------------------------------------------------\u001b[0m",
      "\u001b[0;31mValueError\u001b[0m                                Traceback (most recent call last)",
      "\u001b[0;32m<ipython-input-7-5868637e66a7>\u001b[0m in \u001b[0;36m<module>\u001b[0;34m\u001b[0m\n\u001b[0;32m----> 1\u001b[0;31m \u001b[0msystem\u001b[0m \u001b[0;34m=\u001b[0m \u001b[0mforcefield_generator\u001b[0m\u001b[0;34m.\u001b[0m\u001b[0mcreateSystem\u001b[0m\u001b[0;34m(\u001b[0m\u001b[0mpdbfile\u001b[0m\u001b[0;34m.\u001b[0m\u001b[0mtopology\u001b[0m\u001b[0;34m,\u001b[0m \u001b[0mconstraints\u001b[0m\u001b[0;34m=\u001b[0m\u001b[0mconstraints\u001b[0m\u001b[0;34m)\u001b[0m\u001b[0;34m\u001b[0m\u001b[0;34m\u001b[0m\u001b[0m\n\u001b[0m",
      "\u001b[0;32m~/Myopt/Miniconda/miniconda3/envs/UIBCDF_lab_dev/lib/python3.7/site-packages/simtk/openmm/app/forcefield.py\u001b[0m in \u001b[0;36mcreateSystem\u001b[0;34m(self, topology, nonbondedMethod, nonbondedCutoff, constraints, rigidWater, removeCMMotion, hydrogenMass, residueTemplates, ignoreExternalBonds, switchDistance, flexibleConstraints, **args)\u001b[0m\n\u001b[1;32m   1137\u001b[0m                             \u001b[0;32mbreak\u001b[0m\u001b[0;34m\u001b[0m\u001b[0;34m\u001b[0m\u001b[0m\n\u001b[1;32m   1138\u001b[0m             \u001b[0;32mif\u001b[0m \u001b[0mmatches\u001b[0m \u001b[0;32mis\u001b[0m \u001b[0;32mNone\u001b[0m\u001b[0;34m:\u001b[0m\u001b[0;34m\u001b[0m\u001b[0;34m\u001b[0m\u001b[0m\n\u001b[0;32m-> 1139\u001b[0;31m                 \u001b[0;32mraise\u001b[0m \u001b[0mValueError\u001b[0m\u001b[0;34m(\u001b[0m\u001b[0;34m'No template found for residue %d (%s).  %s'\u001b[0m \u001b[0;34m%\u001b[0m \u001b[0;34m(\u001b[0m\u001b[0mres\u001b[0m\u001b[0;34m.\u001b[0m\u001b[0mindex\u001b[0m\u001b[0;34m+\u001b[0m\u001b[0;36m1\u001b[0m\u001b[0;34m,\u001b[0m \u001b[0mres\u001b[0m\u001b[0;34m.\u001b[0m\u001b[0mname\u001b[0m\u001b[0;34m,\u001b[0m \u001b[0m_findMatchErrors\u001b[0m\u001b[0;34m(\u001b[0m\u001b[0mself\u001b[0m\u001b[0;34m,\u001b[0m \u001b[0mres\u001b[0m\u001b[0;34m)\u001b[0m\u001b[0;34m)\u001b[0m\u001b[0;34m)\u001b[0m\u001b[0;34m\u001b[0m\u001b[0;34m\u001b[0m\u001b[0m\n\u001b[0m\u001b[1;32m   1140\u001b[0m             \u001b[0;32melse\u001b[0m\u001b[0;34m:\u001b[0m\u001b[0;34m\u001b[0m\u001b[0;34m\u001b[0m\u001b[0m\n\u001b[1;32m   1141\u001b[0m                 \u001b[0mdata\u001b[0m\u001b[0;34m.\u001b[0m\u001b[0mrecordMatchedAtomParameters\u001b[0m\u001b[0;34m(\u001b[0m\u001b[0mres\u001b[0m\u001b[0;34m,\u001b[0m \u001b[0mtemplate\u001b[0m\u001b[0;34m,\u001b[0m \u001b[0mmatches\u001b[0m\u001b[0;34m)\u001b[0m\u001b[0;34m\u001b[0m\u001b[0;34m\u001b[0m\u001b[0m\n",
      "\u001b[0;31mValueError\u001b[0m: No template found for residue 1 (DG).  The set of atoms matches DG5, but the bonds are different.  Perhaps the chain is missing a terminal group?"
     ]
    }
   ],
   "source": [
    "system = forcefield_generator.createSystem(pdbfile.topology, constraints=constraints)"
   ]
  },
  {
   "cell_type": "code",
   "execution_count": null,
   "metadata": {},
   "outputs": [],
   "source": []
  }
 ],
 "metadata": {
  "kernelspec": {
   "display_name": "Python 3",
   "language": "python",
   "name": "python3"
  },
  "language_info": {
   "codemirror_mode": {
    "name": "ipython",
    "version": 3
   },
   "file_extension": ".py",
   "mimetype": "text/x-python",
   "name": "python",
   "nbconvert_exporter": "python",
   "pygments_lexer": "ipython3",
   "version": "3.7.3"
  }
 },
 "nbformat": 4,
 "nbformat_minor": 2
}
