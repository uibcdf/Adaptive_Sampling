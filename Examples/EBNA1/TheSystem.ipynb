{
 "cells": [
  {
   "cell_type": "code",
   "execution_count": 1,
   "metadata": {},
   "outputs": [],
   "source": [
    "%load_ext autoreload\n",
    "%autoreload 2"
   ]
  },
  {
   "cell_type": "code",
   "execution_count": 2,
   "metadata": {},
   "outputs": [
    {
     "name": "stderr",
     "output_type": "stream",
     "text": [
      "/home/diego/Myopt/Miniconda/miniconda3/envs/UIBCDF_lab_dev/lib/python3.7/site-packages/yank-0.24.0-py3.7-linux-x86_64.egg/yank/experiment.py:1168: YAMLLoadWarning: calling yaml.load() without Loader=... is deprecated, as the default Loader is unsafe. Please read https://msg.pyyaml.org/load for full details.\n",
      "  \"\"\")\n"
     ]
    }
   ],
   "source": [
    "import os\n",
    "import molmodmt as m3t\n",
    "from simtk import unit"
   ]
  },
  {
   "cell_type": "code",
   "execution_count": 3,
   "metadata": {},
   "outputs": [],
   "source": [
    "system = m3t.load('pdb:1B3T','pdbfixer')"
   ]
  },
  {
   "cell_type": "code",
   "execution_count": 4,
   "metadata": {},
   "outputs": [],
   "source": [
    "system_fixed = m3t.fix_pdb_structure(system)"
   ]
  },
  {
   "cell_type": "code",
   "execution_count": 5,
   "metadata": {},
   "outputs": [
    {
     "data": {
      "text/plain": [
       "[512, 294, 36, 182, 0]"
      ]
     },
     "execution_count": 5,
     "metadata": {},
     "output_type": "execute_result"
    }
   ],
   "source": [
    "m3t.get(system_fixed, n_residues=True, n_aminoacids=True, n_nucleotides=True, n_waters=True, n_ions=True)"
   ]
  },
  {
   "cell_type": "code",
   "execution_count": 6,
   "metadata": {},
   "outputs": [],
   "source": [
    "system_fixed_no_solvent = m3t.remove_solvent(system_fixed)"
   ]
  },
  {
   "cell_type": "code",
   "execution_count": 7,
   "metadata": {},
   "outputs": [
    {
     "data": {
      "text/plain": [
       "[330, 294, 36, 0, 0]"
      ]
     },
     "execution_count": 7,
     "metadata": {},
     "output_type": "execute_result"
    }
   ],
   "source": [
    "m3t.get(system_fixed_no_solvent, n_residues=True, n_aminoacids=True, n_nucleotides=True, n_waters=True, n_ions=True)"
   ]
  },
  {
   "cell_type": "code",
   "execution_count": 8,
   "metadata": {},
   "outputs": [
    {
     "name": "stdout",
     "output_type": "stream",
     "text": [
      "HIS-43 to HIE-43\n",
      "HIS-68 to HID-68\n",
      "HIS-144 to HID-144\n",
      "CYS-173 to CYX-173\n",
      "HIS-190 to HIE-190\n",
      "HIS-215 to HID-215\n",
      "HIS-291 to HID-291\n",
      "CYS-320 to CYX-320\n"
     ]
    }
   ],
   "source": [
    "system_fixed_no_solvent_with_Hs = m3t.add_hydrogens(system_fixed_no_solvent, pH=7.4, verbose=True)"
   ]
  },
  {
   "cell_type": "markdown",
   "metadata": {},
   "source": [
    "### With explicit solvent"
   ]
  },
  {
   "cell_type": "code",
   "execution_count": 9,
   "metadata": {},
   "outputs": [],
   "source": [
    "system_fixed_no_solvent = m3t.convert(system_fixed_no_solvent_with_Hs, 'openmm.Modeller')"
   ]
  },
  {
   "cell_type": "code",
   "execution_count": 10,
   "metadata": {},
   "outputs": [
    {
     "data": {
      "text/plain": [
       "-24"
      ]
     },
     "execution_count": 10,
     "metadata": {},
     "output_type": "execute_result"
    }
   ],
   "source": [
    "m3t.get(system_fixed_no_solvent, net_charge=True)"
   ]
  },
  {
   "cell_type": "code",
   "execution_count": 11,
   "metadata": {},
   "outputs": [
    {
     "name": "stdout",
     "output_type": "stream",
     "text": [
      "Hydrogens were removed. The engine building the box will protonate the system.\n"
     ]
    }
   ],
   "source": [
    "system_solvated = m3t.solvate(system_fixed_no_solvent, add_hydrogens=True, \n",
    "                              box_geometry=\"truncated_octahedral\", clearance=14.0*unit.angstroms)"
   ]
  },
  {
   "cell_type": "code",
   "execution_count": null,
   "metadata": {},
   "outputs": [],
   "source": [
    "fixing_bug = False\n",
    "\n",
    "if fixing_bug:\n",
    "    \n",
    "    for residue in system_solvated.topology.residues():\n",
    "        if residue.name=='DG5':\n",
    "            residue.name='DG'\n",
    "        if residue.name=='DC3':\n",
    "            residue.name='DC'\n",
    "\n",
    "    for atom in system_solvated.topology.atoms():\n",
    "        if atom.name in [\"H2'1\", \"H2'2\", \"H5'1\", \"H5'2\"]:\n",
    "            if atom.name==\"H2'1\":\n",
    "                atom.name=\"H2'\"\n",
    "            elif atom.name==\"H2'2\":\n",
    "                atom.name=\"H2''\"\n",
    "            elif atom.name==\"H5'1\":\n",
    "                atom.name=\"H5'\"\n",
    "            elif atom.name==\"H5'2\":\n",
    "                atom.name=\"H5''\"\n",
    "\n",
    "    m3t.convert(system_solvated,'auxfile.pdb')\n",
    "    system_solvated = m3t.convert('auxfile.pdb', 'openmm.Modeller')\n",
    "    os.remove('auxfile.pdb')"
   ]
  },
  {
   "cell_type": "markdown",
   "metadata": {},
   "source": [
    "### Minimization"
   ]
  },
  {
   "cell_type": "code",
   "execution_count": null,
   "metadata": {},
   "outputs": [],
   "source": [
    "system_minimized = m3t.energy_minimization(system_solvated, verbose=True)"
   ]
  },
  {
   "cell_type": "code",
   "execution_count": null,
   "metadata": {},
   "outputs": [],
   "source": [
    "view = m3t.view(system_solvated)\n",
    "view.clear()\n",
    "if True:\n",
    "    view.add_cartoon(\"protein\")\n",
    "    view.add_cartoon(\"dna\")\n",
    "else:\n",
    "    view.add_ball_and_stick(\"protein\")\n",
    "    view.add_ball_and_stick(\"dna\")\n",
    "view.add_ball_and_stick(\"CL-\", radiusSize=0.2)\n",
    "view.add_surface(\"all\", color=\"cyan\", opacity=0.1)\n",
    "view.center()\n",
    "view"
   ]
  },
  {
   "cell_type": "code",
   "execution_count": null,
   "metadata": {},
   "outputs": [],
   "source": [
    "m3t.convert(system_minimized, 'system_minimized.pdb')"
   ]
  },
  {
   "cell_type": "code",
   "execution_count": null,
   "metadata": {},
   "outputs": [],
   "source": []
  }
 ],
 "metadata": {
  "kernelspec": {
   "display_name": "Python 3",
   "language": "python",
   "name": "python3"
  },
  "language_info": {
   "codemirror_mode": {
    "name": "ipython",
    "version": 3
   },
   "file_extension": ".py",
   "mimetype": "text/x-python",
   "name": "python",
   "nbconvert_exporter": "python",
   "pygments_lexer": "ipython3",
   "version": "3.7.3"
  }
 },
 "nbformat": 4,
 "nbformat_minor": 2
}
