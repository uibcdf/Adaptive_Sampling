{
 "cells": [
  {
   "cell_type": "code",
   "execution_count": 1,
   "metadata": {},
   "outputs": [],
   "source": [
    "%load_ext autoreload\n",
    "%autoreload 2"
   ]
  },
  {
   "cell_type": "code",
   "execution_count": 2,
   "metadata": {},
   "outputs": [
    {
     "name": "stderr",
     "output_type": "stream",
     "text": [
      "/home/diego/Myopt/Miniconda/miniconda3/envs/UIBCDF_lab_dev/lib/python3.7/site-packages/yank-0.24.0-py3.7-linux-x86_64.egg/yank/experiment.py:1168: YAMLLoadWarning: calling yaml.load() without Loader=... is deprecated, as the default Loader is unsafe. Please read https://msg.pyyaml.org/load for full details.\n",
      "  \"\"\")\n"
     ]
    }
   ],
   "source": [
    "import os\n",
    "import molmodmt as m3t\n",
    "from simtk import unit"
   ]
  },
  {
   "cell_type": "markdown",
   "metadata": {},
   "source": [
    "### Equilibration NPT"
   ]
  },
  {
   "cell_type": "code",
   "execution_count": 3,
   "metadata": {},
   "outputs": [],
   "source": [
    "system_minimized = m3t.convert('system_minimized.pdb', 'openmm.Modeller')"
   ]
  },
  {
   "cell_type": "code",
   "execution_count": 4,
   "metadata": {},
   "outputs": [],
   "source": [
    "import numpy as np\n",
    "import simtk.openmm.app as app\n",
    "import simtk.openmm as mm\n",
    "import simtk.unit as unit\n",
    "from openmmtools.integrators import LangevinIntegrator, GeodesicBAOABIntegrator\n",
    "from tqdm import tqdm"
   ]
  },
  {
   "cell_type": "code",
   "execution_count": 5,
   "metadata": {},
   "outputs": [],
   "source": [
    "temperature = 300 * unit.kelvin\n",
    "pressure = 1.0 * unit.atmosphere"
   ]
  },
  {
   "cell_type": "code",
   "execution_count": 6,
   "metadata": {},
   "outputs": [],
   "source": [
    "forcefield_generator = app.ForceField(\"amber99sbildn.xml\",\"tip3p.xml\")"
   ]
  },
  {
   "cell_type": "code",
   "execution_count": 7,
   "metadata": {},
   "outputs": [],
   "source": [
    "topology = system_minimized.topology\n",
    "positions = system_minimized.positions"
   ]
  },
  {
   "cell_type": "code",
   "execution_count": 8,
   "metadata": {},
   "outputs": [],
   "source": [
    "system = forcefield_generator.createSystem(topology,\n",
    "                                           contraints=app.HBonds,\n",
    "                                           nonbondedMethod=app.PME,\n",
    "                                           nonbondedCutoff=1.0*unit.nanometers,\n",
    "                                           rigidWater=True,\n",
    "                                           ewaldErrorTolerance=0.0005\n",
    "                                          )"
   ]
  },
  {
   "cell_type": "code",
   "execution_count": 9,
   "metadata": {},
   "outputs": [],
   "source": [
    "## Thermodynamic State\n",
    "kB = unit.BOLTZMANN_CONSTANT_kB * unit.AVOGADRO_CONSTANT_NA\n",
    "temperature = temperature\n",
    "pressure = pressure"
   ]
  },
  {
   "cell_type": "code",
   "execution_count": 10,
   "metadata": {},
   "outputs": [
    {
     "data": {
      "text/plain": [
       "5"
      ]
     },
     "execution_count": 10,
     "metadata": {},
     "output_type": "execute_result"
    }
   ],
   "source": [
    "## Barostat\n",
    "barostat_frequency = 25 # steps\n",
    "barostat = mm.MonteCarloBarostat(pressure, temperature, barostat_frequency)\n",
    "system.addForce(barostat)"
   ]
  },
  {
   "cell_type": "code",
   "execution_count": 11,
   "metadata": {},
   "outputs": [],
   "source": [
    "## Integrator\n",
    "friction   = 1.0/unit.picosecond\n",
    "step_size  = 2.0*unit.femtoseconds\n",
    "integrator = LangevinIntegrator(temperature, friction, step_size)\n",
    "integrator.setConstraintTolerance(0.00001)"
   ]
  },
  {
   "cell_type": "code",
   "execution_count": 12,
   "metadata": {},
   "outputs": [],
   "source": [
    "## Platform\n",
    "platform = mm.Platform.getPlatformByName('CUDA')\n",
    "properties = {'CudaPrecision': 'mixed'}"
   ]
  },
  {
   "cell_type": "code",
   "execution_count": 13,
   "metadata": {},
   "outputs": [],
   "source": [
    "## Simulation\n",
    "simulation = app.Simulation(topology, system, integrator, platform, properties)"
   ]
  },
  {
   "cell_type": "code",
   "execution_count": 14,
   "metadata": {},
   "outputs": [],
   "source": [
    "simulation.context.setPositions(positions)\n",
    "simulation.context.setVelocitiesToTemperature(temperature)"
   ]
  },
  {
   "cell_type": "code",
   "execution_count": 15,
   "metadata": {},
   "outputs": [],
   "source": [
    "## First equilibration with heavy atoms contrained in not solvent molecules"
   ]
  },
  {
   "cell_type": "code",
   "execution_count": 16,
   "metadata": {},
   "outputs": [],
   "source": [
    "time_equilibration = 1.0 * unit.nanoseconds\n",
    "time_iteration = 0.2 * unit.picoseconds\n",
    "number_iterations = int(time_equilibration/time_iteration)\n",
    "steps_iteration = int(time_iteration/step_size)\n",
    "steps_equilibration = number_iterations*steps_iteration"
   ]
  },
  {
   "cell_type": "code",
   "execution_count": 17,
   "metadata": {},
   "outputs": [
    {
     "name": "stdout",
     "output_type": "stream",
     "text": [
      "steps_equilibration 500000\n",
      "steps_iteration 100\n",
      "number_iterations 5000\n"
     ]
    }
   ],
   "source": [
    "print(\"steps_equilibration\", steps_equilibration)\n",
    "print(\"steps_iteration\", steps_iteration)\n",
    "print(\"number_iterations\", number_iterations)"
   ]
  },
  {
   "cell_type": "code",
   "execution_count": 18,
   "metadata": {},
   "outputs": [],
   "source": [
    "niters = number_iterations\n",
    "data = dict()\n",
    "data['time'] = unit.Quantity(np.zeros([niters], np.float64), unit.picoseconds)\n",
    "data['potential'] = unit.Quantity(np.zeros([niters], np.float64), unit.kilocalories_per_mole)\n",
    "data['kinetic'] = unit.Quantity(np.zeros([niters], np.float64), unit.kilocalories_per_mole)\n",
    "data['volume'] = unit.Quantity(np.zeros([niters], np.float64), unit.angstroms**3)\n",
    "data['density'] = unit.Quantity(np.zeros([niters], np.float64), unit.gram / unit.centimeters**3)\n",
    "data['kinetic_temperature'] = unit.Quantity(np.zeros([niters], np.float64), unit.kelvin)"
   ]
  },
  {
   "cell_type": "code",
   "execution_count": 19,
   "metadata": {},
   "outputs": [],
   "source": [
    "net_mass, n_degrees_of_freedom = m3t.get(system, net_mass=True, n_degrees_of_freedom=True)"
   ]
  },
  {
   "cell_type": "code",
   "execution_count": 21,
   "metadata": {},
   "outputs": [],
   "source": [
    "net_mass = net_mass.in_units_of(unit.gram/unit.mole)/unit.AVOGADRO_CONSTANT_NA"
   ]
  },
  {
   "cell_type": "code",
   "execution_count": null,
   "metadata": {},
   "outputs": [
    {
     "name": "stderr",
     "output_type": "stream",
     "text": [
      "  1%|          | 61/5000 [00:43<1:00:23,  1.36it/s]"
     ]
    }
   ],
   "source": [
    "for iteration in tqdm(range(number_iterations)):\n",
    "    \n",
    "    integrator.step(steps_iteration)\n",
    "    \n",
    "    state = simulation.context.getState(getEnergy=True)\n",
    "    time = state.getTime()\n",
    "    potential_energy = state.getPotentialEnergy()\n",
    "    kinetic_energy = state.getKineticEnergy()\n",
    "    volume = state.getPeriodicBoxVolume()\n",
    "    density = (net_mass / volume).in_units_of(unit.gram / unit.centimeter**3)\n",
    "    kinetic_temperature = (2.0 * kinetic_energy / kB / n_degrees_of_freedom).in_units_of(unit.kelvin) # (1/2) ndof * kB * T = KE\n",
    "    \n",
    "    data['time'][iteration]=time\n",
    "    data['potential'] = potential_energy\n",
    "    data['kinetic'] = kinetic_energy\n",
    "    data['volume'] = volume\n",
    "    data['density'] = density\n",
    "    data['kinetic_temperature'] = kinetic_temperature\n",
    "    "
   ]
  },
  {
   "cell_type": "code",
   "execution_count": null,
   "metadata": {},
   "outputs": [],
   "source": [
    "simulation.reporters.append(app.StateDataReporter(stdout, 100, step=True, potentialEnergy=True, temperature=True))\n",
    "simulation.step(1000)"
   ]
  }
 ],
 "metadata": {
  "kernelspec": {
   "display_name": "Python 3",
   "language": "python",
   "name": "python3"
  },
  "language_info": {
   "codemirror_mode": {
    "name": "ipython",
    "version": 3
   },
   "file_extension": ".py",
   "mimetype": "text/x-python",
   "name": "python",
   "nbconvert_exporter": "python",
   "pygments_lexer": "ipython3",
   "version": "3.7.3"
  }
 },
 "nbformat": 4,
 "nbformat_minor": 2
}
